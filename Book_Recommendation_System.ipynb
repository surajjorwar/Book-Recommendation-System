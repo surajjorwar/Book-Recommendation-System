{
  "nbformat": 4,
  "nbformat_minor": 0,
  "metadata": {
    "colab": {
      "provenance": [],
      "mount_file_id": "1u3SnU1oixSThOevS4w7JWy1cqQECzIPy",
      "authorship_tag": "ABX9TyPFn2Csow2meAheuE/2Xlg+",
      "include_colab_link": true
    },
    "kernelspec": {
      "name": "python3",
      "display_name": "Python 3"
    },
    "language_info": {
      "name": "python"
    }
  },
  "cells": [
    {
      "cell_type": "markdown",
      "metadata": {
        "id": "view-in-github",
        "colab_type": "text"
      },
      "source": [
        "<a href=\"https://colab.research.google.com/github/surajjorwar/Book-Recommendation-System/blob/main/Book_Recommendation_System.ipynb\" target=\"_parent\"><img src=\"https://colab.research.google.com/assets/colab-badge.svg\" alt=\"Open In Colab\"/></a>"
      ]
    },
    {
      "cell_type": "code",
      "execution_count": 1,
      "metadata": {
        "colab": {
          "base_uri": "https://localhost:8080/"
        },
        "id": "kZlpYNZ6miCC",
        "outputId": "6a4ce4e2-7408-4829-8fa2-4f095bbe4e10"
      },
      "outputs": [
        {
          "output_type": "stream",
          "name": "stdout",
          "text": [
            "Collecting fuzzywuzzy\n",
            "  Downloading fuzzywuzzy-0.18.0-py2.py3-none-any.whl (18 kB)\n",
            "Installing collected packages: fuzzywuzzy\n",
            "Successfully installed fuzzywuzzy-0.18.0\n"
          ]
        }
      ],
      "source": [
        "#installing fuzzywuzzy library\n",
        "!pip install fuzzywuzzy"
      ]
    },
    {
      "cell_type": "code",
      "source": [
        "#importing library's\n",
        "import numpy as np\n",
        "import pandas as pd\n",
        "from fuzzywuzzy import fuzz, process\n",
        "from IPython.display import display, Image, HTML"
      ],
      "metadata": {
        "colab": {
          "base_uri": "https://localhost:8080/"
        },
        "id": "TLiSJh2mm9r7",
        "outputId": "2dd48294-5030-4f93-ea60-2ca7d999d067"
      },
      "execution_count": 2,
      "outputs": [
        {
          "output_type": "stream",
          "name": "stderr",
          "text": [
            "/usr/local/lib/python3.10/dist-packages/fuzzywuzzy/fuzz.py:11: UserWarning: Using slow pure-python SequenceMatcher. Install python-Levenshtein to remove this warning\n",
            "  warnings.warn('Using slow pure-python SequenceMatcher. Install python-Levenshtein to remove this warning')\n"
          ]
        }
      ]
    },
    {
      "cell_type": "code",
      "source": [
        "#loading csv files\n",
        "book = pd.read_csv('/content/drive/MyDrive/BOOK_RECOMMENDER_SYSTEM/Copy of Books.csv')\n",
        "rating = pd.read_csv('/content/drive/MyDrive/BOOK_RECOMMENDER_SYSTEM/Copy of Ratings.csv')\n",
        "users = pd.read_csv('/content/drive/MyDrive/BOOK_RECOMMENDER_SYSTEM/Copy of Users.csv')"
      ],
      "metadata": {
        "colab": {
          "base_uri": "https://localhost:8080/"
        },
        "id": "ZpU2cy70nDVU",
        "outputId": "bf0f05c8-2987-4982-e95d-15f15ac98ea5"
      },
      "execution_count": 3,
      "outputs": [
        {
          "output_type": "stream",
          "name": "stderr",
          "text": [
            "<ipython-input-3-b36acff5a32a>:2: DtypeWarning: Columns (3) have mixed types. Specify dtype option on import or set low_memory=False.\n",
            "  book = pd.read_csv('/content/drive/MyDrive/BOOK_RECOMMENDER_SYSTEM/Copy of Books.csv')\n"
          ]
        }
      ]
    }
  ]
}